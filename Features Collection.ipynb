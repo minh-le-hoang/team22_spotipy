{
 "cells": [
  {
   "cell_type": "markdown",
   "metadata": {},
   "source": [
    "# Batch Feature Collection in 5 Steps"
   ]
  },
  {
   "cell_type": "markdown",
   "metadata": {},
   "source": [
    "**Hello and Welcome!**\n",
    "\n",
    "**Please Follow The Steps Below**\n",
    "\n",
    "**If you have any issues, please check:**\n",
    "1. The CSV File that is being read in.\n",
    "2. The credentials for your Spotipy Dev account.\n",
    "3. Everything has been run in order.\n",
    "\n",
    "**If you have any issues, please reach out!**"
   ]
  },
  {
   "cell_type": "markdown",
   "metadata": {},
   "source": [
    "### Step 1. Please load in your batch CSV File. "
   ]
  },
  {
   "cell_type": "code",
   "execution_count": 2,
   "metadata": {},
   "outputs": [],
   "source": [
    "import spotipy\n",
    "from spotipy.oauth2 import SpotifyClientCredentials\n",
    "import spotipy.util as util\n",
    "import pandas as pd\n",
    "import numpy as np \n",
    "import matplotlib.pyplot as plt\n",
    "import time \n",
    "import statistics \n",
    "\n",
    "from IPython.display import display\n",
    "pd.options.display.max_columns = None"
   ]
  },
  {
   "cell_type": "code",
   "execution_count": 5,
   "metadata": {},
   "outputs": [
    {
     "data": {
      "text/html": [
       "<div>\n",
       "<style scoped>\n",
       "    .dataframe tbody tr th:only-of-type {\n",
       "        vertical-align: middle;\n",
       "    }\n",
       "\n",
       "    .dataframe tbody tr th {\n",
       "        vertical-align: top;\n",
       "    }\n",
       "\n",
       "    .dataframe thead th {\n",
       "        text-align: right;\n",
       "    }\n",
       "</style>\n",
       "<table border=\"1\" class=\"dataframe\">\n",
       "  <thead>\n",
       "    <tr style=\"text-align: right;\">\n",
       "      <th></th>\n",
       "      <th>0</th>\n",
       "    </tr>\n",
       "  </thead>\n",
       "  <tbody>\n",
       "    <tr>\n",
       "      <th>140</th>\n",
       "      <td>2mxe0TnaNL039ysAj51xPQ</td>\n",
       "    </tr>\n",
       "    <tr>\n",
       "      <th>141</th>\n",
       "      <td>6MDME20pz9RveH9rEXvrOM</td>\n",
       "    </tr>\n",
       "    <tr>\n",
       "      <th>142</th>\n",
       "      <td>3Isy6kedDrgPYoTS1dazA9</td>\n",
       "    </tr>\n",
       "    <tr>\n",
       "      <th>143</th>\n",
       "      <td>1zNqDE7qDGCsyzJwohVaoX</td>\n",
       "    </tr>\n",
       "    <tr>\n",
       "      <th>144</th>\n",
       "      <td>2J0JN7EFN10G1Tty6hX0AN</td>\n",
       "    </tr>\n",
       "    <tr>\n",
       "      <th>...</th>\n",
       "      <td>...</td>\n",
       "    </tr>\n",
       "    <tr>\n",
       "      <th>275</th>\n",
       "      <td>4TrraAsitQKl821DQY42cZ</td>\n",
       "    </tr>\n",
       "    <tr>\n",
       "      <th>276</th>\n",
       "      <td>4sTQVOfp9vEMCemLw50sbu</td>\n",
       "    </tr>\n",
       "    <tr>\n",
       "      <th>277</th>\n",
       "      <td>6jJ0s89eD6GaHleKKya26X</td>\n",
       "    </tr>\n",
       "    <tr>\n",
       "      <th>278</th>\n",
       "      <td>4ryoUS0W8qXokfMxrlJt6O</td>\n",
       "    </tr>\n",
       "    <tr>\n",
       "      <th>279</th>\n",
       "      <td>1bqxdqvUtPWZri43cKHac8</td>\n",
       "    </tr>\n",
       "  </tbody>\n",
       "</table>\n",
       "<p>140 rows × 1 columns</p>\n",
       "</div>"
      ],
      "text/plain": [
       "                          0\n",
       "140  2mxe0TnaNL039ysAj51xPQ\n",
       "141  6MDME20pz9RveH9rEXvrOM\n",
       "142  3Isy6kedDrgPYoTS1dazA9\n",
       "143  1zNqDE7qDGCsyzJwohVaoX\n",
       "144  2J0JN7EFN10G1Tty6hX0AN\n",
       "..                      ...\n",
       "275  4TrraAsitQKl821DQY42cZ\n",
       "276  4sTQVOfp9vEMCemLw50sbu\n",
       "277  6jJ0s89eD6GaHleKKya26X\n",
       "278  4ryoUS0W8qXokfMxrlJt6O\n",
       "279  1bqxdqvUtPWZri43cKHac8\n",
       "\n",
       "[140 rows x 1 columns]"
      ]
     },
     "execution_count": 5,
     "metadata": {},
     "output_type": "execute_result"
    }
   ],
   "source": [
    "# Example File Short Path: '../data/batches/batch_1.csv'\n",
    "# Example Full Path Name: '/Volumes/GoogleDrive/My Drive/DS4AWork/Spotify Team 22 Project/data/batches/batch_1.csv'\n",
    "# Yours may be slightly different\n",
    "\n",
    "PathName = './batches/batch_2.csv' #'ENTER PATH NAME HERE'\n",
    "\n",
    "Batch_File = pd.read_csv(PathName, index_col = 0)\n",
    "Batch_File"
   ]
  },
  {
   "cell_type": "markdown",
   "metadata": {},
   "source": [
    "### Step 2: Setting Up Spotipy"
   ]
  },
  {
   "cell_type": "code",
   "execution_count": 6,
   "metadata": {},
   "outputs": [],
   "source": []
  },
  {
   "cell_type": "markdown",
   "metadata": {},
   "source": [
    "#### Please copy your spotify developer credentials in the box below. These can be found on the spotify developer webpage. \n",
    "    Note: Make sure to put the string in ''."
   ]
  },
  {
   "cell_type": "code",
   "execution_count": 7,
   "metadata": {},
   "outputs": [],
   "source": [
    "SPOTIPY_CLIENT_ID = 'f3fac8dc166d4eda8684e41136883787'\n",
    "SPOTIPY_CLIENT_SECRET = 'fb28c681d7b8439a9f3fc3f481550c95'"
   ]
  },
  {
   "cell_type": "code",
   "execution_count": 8,
   "metadata": {},
   "outputs": [],
   "source": [
    "client_credentials_manager = SpotifyClientCredentials(client_id= SPOTIPY_CLIENT_ID, \n",
    "                                                      client_secret=SPOTIPY_CLIENT_SECRET)\n",
    "\n",
    "sp = spotipy.Spotify(client_credentials_manager= client_credentials_manager)"
   ]
  },
  {
   "cell_type": "markdown",
   "metadata": {},
   "source": [
    "### Step 3: Run the code below to create the function. "
   ]
  },
  {
   "cell_type": "code",
   "execution_count": 31,
   "metadata": {},
   "outputs": [],
   "source": [
    "def get_data(list_of_artist_uris):\n",
    "    print(f'There are {len(list_of_artist_uris)} artists that we found')\n",
    "    \n",
    "    aud_feat = []\n",
    "    danceability = []\n",
    "    energy = []\n",
    "    key = []\n",
    "    mode = []\n",
    "    loudness = []\n",
    "    speechiness = []\n",
    "    acousticness = []\n",
    "    instrumentalness = []   \n",
    "    liveness = []\n",
    "    valence = []\n",
    "    tempo = []\n",
    "    art_uri = []\n",
    "    alb_uri = []\n",
    "    alb_date = []\n",
    "    alb_name = []\n",
    "    alb_genre = []\n",
    "    alb_group = []\n",
    "    \n",
    "    albums_set = set()\n",
    "    \n",
    "    for uri_id,uri in enumerate(list_of_artist_uris['0']):\n",
    "        time.sleep(.3)\n",
    "#         print(f'Collecting Data for {uri}' )\n",
    "        print(f\"Collecting Data for {uri_id + 1} out of {len(list_of_artist_uris['0'])} artists.\")\n",
    "        \n",
    "        artist_result = sp.artist_albums(uri)\n",
    "    \n",
    "        for i in range(len(artist_result['items'])):\n",
    "\n",
    "            art_uri.append(uri)\n",
    "            alb_date.append(artist_result['items'][i]['release_date'])\n",
    "            alb_name.append(artist_result['items'][i]['name']) \n",
    "        \n",
    "            temp_uri = artist_result['items'][i]['id']\n",
    "            alb_uri.append(temp_uri)\n",
    "            albums_set.add(temp_uri)\n",
    "        \n",
    "            temp_name = artist_result['items'][i]['name']\n",
    "        \n",
    "            alb_group.append(artist_result['items'][i]['album_group'])\n",
    "            artist_result['items'][i]['album_group'] \n",
    "\n",
    "            if temp_uri in albums_set:\n",
    "                l1 = []\n",
    "                l2 = []\n",
    "                l3 = []\n",
    "                l4 = []\n",
    "                l5 = []\n",
    "                l6 = []\n",
    "                l7 = []\n",
    "                l8 = []\n",
    "                l9 = []\n",
    "                l10 = []\n",
    "                l11 = []\n",
    "            \n",
    "                album_result = sp.album(temp_uri)\n",
    "                alb_genre.append(album_result['genres'])\n",
    "            \n",
    "                for j in range(len(album_result['tracks']['items'])):\n",
    "                    feature = sp.audio_features(album_result['tracks']['items'][j]['id'])[0]\n",
    "                    if type(feature) == dict:\n",
    "                        l1.append(feature['danceability'])\n",
    "                        l2.append(feature['energy'])\n",
    "                        l3.append(feature['key'])\n",
    "                        l4.append(feature['mode'])\n",
    "                        l5.append(feature['loudness'])\n",
    "                        l6.append(feature['speechiness'])\n",
    "                        l7.append(feature['acousticness'])\n",
    "                        l8.append(feature['instrumentalness'])\n",
    "                        l9.append(feature['liveness'])\n",
    "                        l10.append(feature['valence'])\n",
    "                        l11.append(feature['tempo'])\n",
    "\n",
    "                if(len(l1)>1):\n",
    "                    danceability.append(statistics.mean(l1))\n",
    "                else: \n",
    "                    danceability.append(l1[-1])\n",
    "\n",
    "                if(len(l2)>1):\n",
    "                    energy.append(statistics.mean(l2))\n",
    "                else: \n",
    "                    energy.append(l2[-1])\n",
    "\n",
    "                if(len(l5)>1):\n",
    "                    loudness.append(statistics.mean(l5))\n",
    "                else: \n",
    "                    loudness.append(l5[-1])\n",
    "\n",
    "                if(len(l6)>1):\n",
    "                    speechiness.append(statistics.mean(l6))\n",
    "                else: \n",
    "                    speechiness.append(l6[-1])\n",
    "\n",
    "                if(len(l7)>1):\n",
    "                    acousticness.append(statistics.mean(l7))\n",
    "                else: \n",
    "                    acousticness.append(l7[-1])\n",
    "\n",
    "                if(len(l8)>1):\n",
    "                    instrumentalness.append(statistics.mean(l8))\n",
    "                else: \n",
    "                    instrumentalness.append(l8[-1])\n",
    "\n",
    "                if(len(l9)>1):\n",
    "                    liveness.append(statistics.mean(l9))\n",
    "                else: \n",
    "                    liveness.append(l9[-1])\n",
    "\n",
    "                if(len(l10)>1):\n",
    "                    valence.append(statistics.mean(l10))\n",
    "                else: \n",
    "                    valence.append(l10[-1])\n",
    "\n",
    "                if(len(l11)>1):\n",
    "                    tempo.append(statistics.mean(l11))\n",
    "                else: \n",
    "                    tempo.append(l11[-1])\n",
    "\n",
    "                if(len(l3)>1):    \n",
    "                    key.append(statistics.median(l3))\n",
    "                else: \n",
    "                    key.append(l3[-1])\n",
    "\n",
    "                if(len(l4)>1):\n",
    "                    mode.append(statistics.median(l4))\n",
    "                else: \n",
    "                    mode.append(l4[-1])\n",
    "\n",
    "            else: \n",
    "                print(f'Found a duplicate album: {temp_uri}. Will not calculate audio features')\n",
    "                danceability.append('DUPLICATE')\n",
    "                energy.append('DUPLICATE')\n",
    "                key.append('DUPLICATE')\n",
    "                mode.append('DUPLICATE')\n",
    "                loudness.append('DUPLICATE')\n",
    "                speechiness.append('DUPLICATE')\n",
    "                acousticness.append('DUPLICATE')\n",
    "                instrumentalness.append('DUPLICATE')   \n",
    "                liveness.append('DUPLICATE')\n",
    "                valence.append('DUPLICATE')\n",
    "                tempo.append('DUPLICATE')\n",
    "    \n",
    "    print(\"Creating Artist Dataframe\")\n",
    "    album_data = pd.DataFrame({'Artist URI': art_uri,\n",
    "                               'Album URI': alb_uri,\n",
    "                               'Album Group': alb_group,\n",
    "                               'Album Name': alb_name,\n",
    "                               'Album Release Date' : alb_date,\n",
    "                               'Album Danceability' : danceability,\n",
    "                               'Album Energy' : energy,\n",
    "                               'Album Key' : key,\n",
    "                               'Album Loudness' : loudness,\n",
    "                               'Album Speechiness' : speechiness,\n",
    "                               'Album Acousticness' : acousticness,\n",
    "                               'Album Instrumentalness' : instrumentalness,\n",
    "                               'Album Liveness' : liveness,\n",
    "                               'Album Valence': valence,\n",
    "                               'Album Tempo' : tempo,\n",
    "                               'Album Genres': alb_genre\n",
    "                          })\n",
    "    print('Complete!')\n",
    "    return album_data"
   ]
  },
  {
   "cell_type": "markdown",
   "metadata": {},
   "source": [
    "### Step 4: Run the code below to run the function. \n",
    "    Note: This can take up to an hour and a half. Please be patient. If there is an error, please wait a bit and start back at step 1. "
   ]
  },
  {
   "cell_type": "code",
   "execution_count": 32,
   "metadata": {},
   "outputs": [],
   "source": [
    "# Batch_File.iloc[0:10]"
   ]
  },
  {
   "cell_type": "code",
   "execution_count": 25,
   "metadata": {},
   "outputs": [
    {
     "name": "stdout",
     "output_type": "stream",
     "text": [
      "There are 30 artists that we found\n",
      "Collecting Data for 5veVxxPm1vzgi6pO2iVA8L\n",
      "Collecting Data for 7qPLO2XOUaRrRxkvLZ3AEK\n",
      "Collecting Data for 3t5xRXzsuZmMDkQzgOX35S\n",
      "Collecting Data for 7DMveApC7UnC2NPfPvlHSU\n",
      "Collecting Data for 0AJUYWKztkg5dnrHDIBv47\n",
      "Collecting Data for 0DdDnziut7wOo6cAYWVZC5\n",
      "Collecting Data for 6RHKEd9dpzQ4c09x8Zdaxu\n",
      "Collecting Data for 4PVn1b2WnnXdq80C7uaZLZ\n",
      "Collecting Data for 4bvWFV51SAEocM22uiDOza\n",
      "Collecting Data for 05o1zW8b6PV6rEquXr74sB\n",
      "Collecting Data for 1Fr6agZ6iSM5Ynn2k4C8sc\n",
      "Collecting Data for 23sYU61n9f1CzYi8NJhAXS\n",
      "Collecting Data for 7dGJo4pcD2V6oG8kP0tJRR\n",
      "Collecting Data for 1Hsdzj7Dlq2I7tHP7501T4\n",
      "Collecting Data for 4ehtJnVumNf6xzSCDk8aLB\n",
      "Collecting Data for 0fA0VVWsXO9YnASrzqfmYu\n",
      "Collecting Data for 0u2FHSq3ln94y5Q57xazwf\n",
      "Collecting Data for 5lXfVoQxVgC5fpjkVqvNYn\n",
      "Collecting Data for 5mnS9jJdKQQcRSqFu5YPVe\n",
      "Collecting Data for 3hPPNy5OBzCU1icQO7Nrok\n",
      "Collecting Data for 1Oa0bMld0A3u5OTYfMzp5h\n",
      "Collecting Data for 16oZKvXb6WkQlVAjwo2Wbg\n",
      "Collecting Data for 0lzV2CiahHRiGd6qpADtPS\n",
      "Collecting Data for 6Ha4aES39QiVjR0L2lwuwq\n",
      "Collecting Data for 7yO4IdJjCEPz7YgZMe25iS\n",
      "Collecting Data for 13ubrt8QOOCPljQ2FL1Kca\n",
      "Collecting Data for 0tPjSrb43a58uznKru1k2P\n",
      "Collecting Data for 2tMOCIpxj6jwM9e6pmwGiP\n",
      "Collecting Data for 188VINPQh5dyNfLUkevKqf\n",
      "Collecting Data for 2FwJwEswyIUAljqgjNSHgP\n",
      "Creating Artist Dataframe\n",
      "Complete!\n"
     ]
    }
   ],
   "source": [
    "Output_50_100 = get_data(Batch_File.iloc[50:80])"
   ]
  },
  {
   "cell_type": "code",
   "execution_count": 33,
   "metadata": {},
   "outputs": [
    {
     "name": "stdout",
     "output_type": "stream",
     "text": [
      "There are 30 artists that we found\n",
      "Collecting Data for 1 out of 30 artists.\n",
      "Collecting Data for 2 out of 30 artists.\n",
      "Collecting Data for 3 out of 30 artists.\n",
      "Collecting Data for 4 out of 30 artists.\n",
      "Collecting Data for 5 out of 30 artists.\n",
      "Collecting Data for 6 out of 30 artists.\n",
      "Collecting Data for 7 out of 30 artists.\n",
      "Collecting Data for 8 out of 30 artists.\n",
      "Collecting Data for 9 out of 30 artists.\n",
      "Collecting Data for 10 out of 30 artists.\n",
      "Collecting Data for 11 out of 30 artists.\n",
      "Collecting Data for 12 out of 30 artists.\n",
      "Collecting Data for 13 out of 30 artists.\n",
      "Collecting Data for 14 out of 30 artists.\n",
      "Collecting Data for 15 out of 30 artists.\n",
      "Collecting Data for 16 out of 30 artists.\n",
      "Collecting Data for 17 out of 30 artists.\n",
      "Collecting Data for 18 out of 30 artists.\n",
      "Collecting Data for 19 out of 30 artists.\n",
      "Collecting Data for 20 out of 30 artists.\n",
      "Collecting Data for 21 out of 30 artists.\n",
      "Collecting Data for 22 out of 30 artists.\n",
      "Collecting Data for 23 out of 30 artists.\n",
      "Collecting Data for 24 out of 30 artists.\n",
      "Collecting Data for 25 out of 30 artists.\n",
      "Collecting Data for 26 out of 30 artists.\n",
      "Collecting Data for 27 out of 30 artists.\n",
      "Collecting Data for 28 out of 30 artists.\n",
      "Collecting Data for 29 out of 30 artists.\n",
      "Collecting Data for 30 out of 30 artists.\n",
      "Creating Artist Dataframe\n",
      "Complete!\n"
     ]
    }
   ],
   "source": [
    "Output_80_110 = get_data(Batch_File.iloc[80:110])"
   ]
  },
  {
   "cell_type": "code",
   "execution_count": null,
   "metadata": {},
   "outputs": [
    {
     "name": "stdout",
     "output_type": "stream",
     "text": [
      "There are 30 artists that we found\n",
      "Collecting Data for 1 out of 30 artists.\n",
      "Collecting Data for 2 out of 30 artists.\n",
      "Collecting Data for 3 out of 30 artists.\n",
      "Collecting Data for 4 out of 30 artists.\n",
      "Collecting Data for 5 out of 30 artists.\n",
      "Collecting Data for 6 out of 30 artists.\n",
      "Collecting Data for 7 out of 30 artists.\n",
      "Collecting Data for 8 out of 30 artists.\n",
      "Collecting Data for 9 out of 30 artists.\n",
      "Collecting Data for 10 out of 30 artists.\n",
      "Collecting Data for 11 out of 30 artists.\n",
      "Collecting Data for 12 out of 30 artists.\n",
      "Collecting Data for 13 out of 30 artists.\n",
      "Collecting Data for 14 out of 30 artists.\n",
      "Collecting Data for 15 out of 30 artists.\n",
      "Collecting Data for 16 out of 30 artists.\n",
      "Collecting Data for 17 out of 30 artists.\n",
      "Collecting Data for 18 out of 30 artists.\n",
      "Collecting Data for 19 out of 30 artists.\n",
      "Collecting Data for 20 out of 30 artists.\n",
      "Collecting Data for 21 out of 30 artists.\n",
      "Collecting Data for 22 out of 30 artists.\n",
      "Collecting Data for 23 out of 30 artists.\n",
      "Collecting Data for 24 out of 30 artists.\n"
     ]
    }
   ],
   "source": [
    "Output_110_140 = get_data(Batch_File.iloc[110::])"
   ]
  },
  {
   "cell_type": "markdown",
   "metadata": {},
   "source": [
    "### Step 5: Saving the File. \n",
    "    Note: You may need to change the output file depending on your system, but it should work out of the box.\n",
    "          Please match the number in the file name to your batch number. "
   ]
  },
  {
   "cell_type": "code",
   "execution_count": 20,
   "metadata": {},
   "outputs": [],
   "source": [
    "# Output_0_10"
   ]
  },
  {
   "cell_type": "code",
   "execution_count": 16,
   "metadata": {},
   "outputs": [],
   "source": [
    "# Please change the number in the file name to correspond to your batch number. \n",
    "# Your batch number is in the input file name as well. \n",
    "\n",
    "Output_0_10.to_csv('./batch_2_data_0_10.csv')"
   ]
  },
  {
   "cell_type": "code",
   "execution_count": 19,
   "metadata": {},
   "outputs": [],
   "source": [
    "Output_10_20.to_csv('./batch_2_data_10_20.csv')"
   ]
  },
  {
   "cell_type": "code",
   "execution_count": 22,
   "metadata": {},
   "outputs": [],
   "source": [
    "Output_20_50.to_csv('./batch_2_data_20_50.csv')"
   ]
  },
  {
   "cell_type": "code",
   "execution_count": 26,
   "metadata": {},
   "outputs": [],
   "source": [
    "Output_50_100.to_csv('./batch_2_data_50_80.csv')"
   ]
  },
  {
   "cell_type": "code",
   "execution_count": 34,
   "metadata": {},
   "outputs": [],
   "source": [
    "Output_80_110.to_csv('./batch_2_data_80_110.csv')"
   ]
  },
  {
   "cell_type": "code",
   "execution_count": null,
   "metadata": {},
   "outputs": [],
   "source": [
    "Output_110_140.to_csv('./batch_2_data_110_140.csv')"
   ]
  },
  {
   "cell_type": "markdown",
   "metadata": {},
   "source": [
    "# Done! Please Put The Output File Into Google Drive. "
   ]
  },
  {
   "cell_type": "markdown",
   "metadata": {},
   "source": [
    "# -----------------------------------------------------------------------------------------"
   ]
  },
  {
   "cell_type": "markdown",
   "metadata": {},
   "source": [
    "# Ignore This Code"
   ]
  },
  {
   "cell_type": "markdown",
   "metadata": {},
   "source": [
    "#### Creating Artist URI Batches"
   ]
  },
  {
   "cell_type": "code",
   "execution_count": null,
   "metadata": {},
   "outputs": [],
   "source": [
    "Input_Data = pd.read_csv('../data/2021.01.09 spotify_us_all_fe.csv')\n",
    "\n",
    "artist_set = pd.DataFrame(Input_Data['Artist URI'].unique())\n",
    "\n",
    "artist_set[0:140].to_csv('../data/batches/batch_1.csv')\n",
    "artist_set[140:280].to_csv('../data/batches/batch_2.csv')\n",
    "artist_set[280:420].to_csv('../data/batches/batch_3.csv')\n",
    "artist_set[420:560].to_csv('../data/batches/batch_4.csv')\n",
    "artist_set[560:700].to_csv('../data/batches/batch_5.csv')\n",
    "artist_set[700:840].to_csv('../data/batches/batch_6.csv')\n",
    "artist_set[840:980].to_csv('../data/batches/batch_7.csv')\n",
    "artist_set[980:1120].to_csv('../data/batches/batch_8.csv')\n",
    "artist_set[1120:1260].to_csv('../data/batches/batch_9.csv')\n",
    "artist_set[1260:1400].to_csv('../data/batches/batch_10.csv')\n",
    "artist_set[1400:1540].to_csv('../data/batches/batch_11.csv')\n",
    "artist_set[1540:].to_csv('../data/batches/batch_12.csv')\n",
    "\n"
   ]
  },
  {
   "cell_type": "markdown",
   "metadata": {},
   "source": [
    "#### Merging Output Files"
   ]
  },
  {
   "cell_type": "code",
   "execution_count": null,
   "metadata": {},
   "outputs": [],
   "source": []
  }
 ],
 "metadata": {
  "kernelspec": {
   "display_name": "Python 3",
   "language": "python",
   "name": "python3"
  },
  "language_info": {
   "codemirror_mode": {
    "name": "ipython",
    "version": 3
   },
   "file_extension": ".py",
   "mimetype": "text/x-python",
   "name": "python",
   "nbconvert_exporter": "python",
   "pygments_lexer": "ipython3",
   "version": "3.8.5"
  },
  "varInspector": {
   "cols": {
    "lenName": 16,
    "lenType": 16,
    "lenVar": 40
   },
   "kernels_config": {
    "python": {
     "delete_cmd_postfix": "",
     "delete_cmd_prefix": "del ",
     "library": "var_list.py",
     "varRefreshCmd": "print(var_dic_list())"
    },
    "r": {
     "delete_cmd_postfix": ") ",
     "delete_cmd_prefix": "rm(",
     "library": "var_list.r",
     "varRefreshCmd": "cat(var_dic_list()) "
    }
   },
   "types_to_exclude": [
    "module",
    "function",
    "builtin_function_or_method",
    "instance",
    "_Feature"
   ],
   "window_display": false
  }
 },
 "nbformat": 4,
 "nbformat_minor": 4
}
